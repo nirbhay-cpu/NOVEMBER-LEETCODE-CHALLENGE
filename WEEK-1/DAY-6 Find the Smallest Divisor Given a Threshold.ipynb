{
 "cells": [
  {
   "cell_type": "code",
   "execution_count": null,
   "metadata": {},
   "outputs": [],
   "source": [
    "QUESTION-\n",
    "\n",
    "Given an array of integers nums and an integer threshold, we will choose a positive integer divisor and divide all the array by it and sum the result of the division. Find the smallest divisor such that the result mentioned above is less than or equal to threshold.\n",
    "\n",
    "Each result of division is rounded to the nearest integer greater than or equal to that element. (For example: 7/3 = 3 and 10/2 = 5).\n",
    "\n",
    "It is guaranteed that there will be an answer.\n",
    "\n",
    " \n",
    "\n",
    "Example 1:\n",
    "\n",
    "Input: nums = [1,2,5,9], threshold = 6\n",
    "Output: 5\n",
    "Explanation: We can get a sum to 17 (1+2+5+9) if the divisor is 1. \n",
    "If the divisor is 4 we can get a sum to 7 (1+1+2+3) and if the divisor is 5 the sum will be 5 (1+1+1+2). \n",
    "Example 2:\n",
    "\n",
    "Input: nums = [2,3,5,7,11], threshold = 11\n",
    "Output: 3\n",
    "Example 3:\n",
    "\n",
    "Input: nums = [19], threshold = 5\n",
    "Output: 4\n",
    " \n",
    "\n",
    "Constraints:\n",
    "\n",
    "1 <= nums.length <= 5 * 10^4\n",
    "1 <= nums[i] <= 10^6\n",
    "nums.length <= threshold <= 10^6"
   ]
  },
  {
   "cell_type": "code",
   "execution_count": null,
   "metadata": {},
   "outputs": [],
   "source": [
    "class Solution:\n",
    "    def smallestDivisor(self, nums: List[int], threshold: int) -> int:\n",
    "        l,r = 1,max(nums)\n",
    "        \n",
    "        while l<=r:\n",
    "            mid = (l+r)//2\n",
    "            \n",
    "            if sum([math.ceil(x/mid) for x in nums]) > threshold:\n",
    "                l = mid +1\n",
    "            else:\n",
    "                r = mid -1\n",
    "            \n",
    "        return l"
   ]
  },
  {
   "cell_type": "code",
   "execution_count": null,
   "metadata": {},
   "outputs": [],
   "source": []
  }
 ],
 "metadata": {
  "kernelspec": {
   "display_name": "Python 3",
   "language": "python",
   "name": "python3"
  },
  "language_info": {
   "codemirror_mode": {
    "name": "ipython",
    "version": 3
   },
   "file_extension": ".py",
   "mimetype": "text/x-python",
   "name": "python",
   "nbconvert_exporter": "python",
   "pygments_lexer": "ipython3",
   "version": "3.7.6"
  }
 },
 "nbformat": 4,
 "nbformat_minor": 4
}
