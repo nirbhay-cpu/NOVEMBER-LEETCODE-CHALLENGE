{
 "cells": [
  {
   "cell_type": "code",
   "execution_count": null,
   "metadata": {},
   "outputs": [],
   "source": [
    "QUESTION-\n",
    "\n",
    "Sort a linked list using insertion sort.\n",
    "\n",
    "\n",
    "A graphical example of insertion sort. The partial sorted list (black) initially contains only the first element in the list.\n",
    "With each iteration one element (red) is removed from the input data and inserted in-place into the sorted list\n",
    " \n",
    "\n",
    "Algorithm of Insertion Sort:\n",
    "\n",
    "Insertion sort iterates, consuming one input element each repetition, and growing a sorted output list.\n",
    "At each iteration, insertion sort removes one element from the input data, finds the location it belongs within the sorted list, and inserts it there.\n",
    "It repeats until no input elements remain.\n",
    "\n",
    "Example 1:\n",
    "\n",
    "Input: 4->2->1->3\n",
    "Output: 1->2->3->4\n",
    "Example 2:\n",
    "\n",
    "Input: -1->5->3->4->0\n",
    "Output: -1->0->3->4->5"
   ]
  },
  {
   "cell_type": "code",
   "execution_count": null,
   "metadata": {},
   "outputs": [],
   "source": [
    "class Solution:\n",
    "    def insertionSortList(self, head: ListNode) -> ListNode:\n",
    "        pseudo_head = ListNode()\n",
    "\n",
    "        curr = head\n",
    "        while curr:\n",
    "            # At each iteration, we insert an element into the resulting list.\n",
    "            prev_node = pseudo_head\n",
    "            next_node = prev_node.next\n",
    "            # find the position to insert the current node\n",
    "            while next_node:\n",
    "                if curr.val < next_node.val:\n",
    "                    break\n",
    "                prev_node = next_node\n",
    "                next_node = next_node.next\n",
    "\n",
    "            next_iter = curr.next\n",
    "            # insert the current node to the new list\n",
    "            curr.next = next_node\n",
    "            prev_node.next = curr\n",
    "\n",
    "            # moving on to the next iteration\n",
    "            curr = next_iter\n",
    "\n",
    "        return pseudo_head.next"
   ]
  },
  {
   "cell_type": "code",
   "execution_count": null,
   "metadata": {},
   "outputs": [],
   "source": []
  }
 ],
 "metadata": {
  "kernelspec": {
   "display_name": "Python 3",
   "language": "python",
   "name": "python3"
  },
  "language_info": {
   "codemirror_mode": {
    "name": "ipython",
    "version": 3
   },
   "file_extension": ".py",
   "mimetype": "text/x-python",
   "name": "python",
   "nbconvert_exporter": "python",
   "pygments_lexer": "ipython3",
   "version": "3.7.6"
  }
 },
 "nbformat": 4,
 "nbformat_minor": 4
}
