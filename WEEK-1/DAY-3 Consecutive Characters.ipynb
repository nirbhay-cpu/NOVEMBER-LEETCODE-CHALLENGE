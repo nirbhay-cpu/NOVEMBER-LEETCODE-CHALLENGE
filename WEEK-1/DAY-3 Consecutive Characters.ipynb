{
 "cells": [
  {
   "cell_type": "code",
   "execution_count": null,
   "metadata": {},
   "outputs": [],
   "source": [
    "QUESTION-\n",
    "\n",
    "Given a string s, the power of the string is the maximum length of a non-empty substring that contains only one unique character.\n",
    "\n",
    "Return the power of the string.\n",
    "\n",
    " \n",
    "\n",
    "Example 1:\n",
    "\n",
    "Input: s = \"leetcode\"\n",
    "Output: 2\n",
    "Explanation: The substring \"ee\" is of length 2 with the character 'e' only.\n",
    "Example 2:\n",
    "\n",
    "Input: s = \"abbcccddddeeeeedcba\"\n",
    "Output: 5\n",
    "Explanation: The substring \"eeeee\" is of length 5 with the character 'e' only.\n",
    "Example 3:\n",
    "\n",
    "Input: s = \"triplepillooooow\"\n",
    "Output: 5\n",
    "Example 4:\n",
    "\n",
    "Input: s = \"hooraaaaaaaaaaay\"\n",
    "Output: 11\n",
    "Example 5:\n",
    "\n",
    "Input: s = \"tourist\"\n",
    "Output: 1\n",
    " \n",
    "\n",
    "Constraints:\n",
    "\n",
    "1 <= s.length <= 500\n",
    "s contains only lowercase English letters."
   ]
  },
  {
   "cell_type": "code",
   "execution_count": null,
   "metadata": {},
   "outputs": [],
   "source": [
    "class Solution:\n",
    "    def maxPower(self, s: str) -> int:\n",
    "        maxi=1\n",
    "        v=1\n",
    "        \n",
    "        \n",
    "        \n",
    "        for i in range(1,len(s)):\n",
    "            if s[i]==s[i-1]:\n",
    "                v+=1\n",
    "                maxi=max(maxi,v)\n",
    "            else:\n",
    "                \n",
    "                v=1\n",
    "        return maxi"
   ]
  },
  {
   "cell_type": "code",
   "execution_count": null,
   "metadata": {},
   "outputs": [],
   "source": []
  }
 ],
 "metadata": {
  "kernelspec": {
   "display_name": "Python 3",
   "language": "python",
   "name": "python3"
  },
  "language_info": {
   "codemirror_mode": {
    "name": "ipython",
    "version": 3
   },
   "file_extension": ".py",
   "mimetype": "text/x-python",
   "name": "python",
   "nbconvert_exporter": "python",
   "pygments_lexer": "ipython3",
   "version": "3.7.6"
  }
 },
 "nbformat": 4,
 "nbformat_minor": 4
}
