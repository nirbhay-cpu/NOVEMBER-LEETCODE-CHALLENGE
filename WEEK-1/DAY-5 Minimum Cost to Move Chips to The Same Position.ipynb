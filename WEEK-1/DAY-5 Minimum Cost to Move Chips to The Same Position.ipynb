{
 "cells": [
  {
   "cell_type": "code",
   "execution_count": null,
   "metadata": {},
   "outputs": [],
   "source": [
    "QUESTION-\n",
    "\n",
    "We have n chips, where the position of the ith chip is position[i].\n",
    "\n",
    "We need to move all the chips to the same position. In one step, we can change the position of the ith chip from position[i] to:\n",
    "\n",
    "position[i] + 2 or position[i] - 2 with cost = 0.\n",
    "position[i] + 1 or position[i] - 1 with cost = 1.\n",
    "Return the minimum cost needed to move all the chips to the same position.\n",
    "\n",
    " \n",
    "\n",
    "Example 1:\n",
    "\n",
    "\n",
    "Input: position = [1,2,3]\n",
    "Output: 1\n",
    "Explanation: First step: Move the chip at position 3 to position 1 with cost = 0.\n",
    "Second step: Move the chip at position 2 to position 1 with cost = 1.\n",
    "Total cost is 1.\n",
    "Example 2:\n",
    "\n",
    "\n",
    "Input: position = [2,2,2,3,3]\n",
    "Output: 2\n",
    "Explanation: We can move the two chips at position  3 to position 2. Each move has cost = 1. The total cost = 2.\n",
    "Example 3:\n",
    "\n",
    "Input: position = [1,1000000000]\n",
    "Output: 1\n",
    " \n",
    "\n",
    "Constraints:\n",
    "\n",
    "1 <= position.length <= 100\n",
    "1 <= position[i] <= 10^9"
   ]
  },
  {
   "cell_type": "code",
   "execution_count": null,
   "metadata": {},
   "outputs": [],
   "source": [
    "from collections import Counter\n",
    "class Solution:\n",
    "    def minCostToMoveChips(self, position: List[int]) -> int:\n",
    "        \n",
    "    \n",
    "        dp = Counter(position)\n",
    "        e,o=0,0\n",
    "\n",
    "        \n",
    "        for i,v in dp.items():\n",
    "            if i %2==0:\n",
    "                e+=v\n",
    "            else:\n",
    "                o+=v\n",
    "        \n",
    "        return min(e,o"
   ]
  },
  {
   "cell_type": "code",
   "execution_count": null,
   "metadata": {},
   "outputs": [],
   "source": []
  }
 ],
 "metadata": {
  "kernelspec": {
   "display_name": "Python 3",
   "language": "python",
   "name": "python3"
  },
  "language_info": {
   "codemirror_mode": {
    "name": "ipython",
    "version": 3
   },
   "file_extension": ".py",
   "mimetype": "text/x-python",
   "name": "python",
   "nbconvert_exporter": "python",
   "pygments_lexer": "ipython3",
   "version": "3.7.6"
  }
 },
 "nbformat": 4,
 "nbformat_minor": 4
}
