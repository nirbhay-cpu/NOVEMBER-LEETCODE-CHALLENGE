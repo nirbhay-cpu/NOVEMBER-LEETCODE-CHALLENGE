{
 "cells": [
  {
   "cell_type": "code",
   "execution_count": null,
   "metadata": {},
   "outputs": [],
   "source": [
    "QUESTION-\n",
    "\n",
    "Given an array of digits which is sorted in non-decreasing order. You can write numbers using each digits[i] as many times as we want. For example, if digits = ['1','3','5'], we may write numbers such as '13', '551', and '1351315'.\n",
    "\n",
    "Return the number of positive integers that can be generated that are less than or equal to a given integer n.\n",
    "\n",
    " \n",
    "\n",
    "Example 1:\n",
    "\n",
    "Input: digits = [\"1\",\"3\",\"5\",\"7\"], n = 100\n",
    "Output: 20\n",
    "Explanation: \n",
    "The 20 numbers that can be written are:\n",
    "1, 3, 5, 7, 11, 13, 15, 17, 31, 33, 35, 37, 51, 53, 55, 57, 71, 73, 75, 77.\n",
    "Example 2:\n",
    "\n",
    "Input: digits = [\"1\",\"4\",\"9\"], n = 1000000000\n",
    "Output: 29523\n",
    "Explanation: \n",
    "We can write 3 one digit numbers, 9 two digit numbers, 27 three digit numbers,\n",
    "81 four digit numbers, 243 five digit numbers, 729 six digit numbers,\n",
    "2187 seven digit numbers, 6561 eight digit numbers, and 19683 nine digit numbers.\n",
    "In total, this is 29523 integers that can be written using the digits array.\n",
    "Example 3:\n",
    "\n",
    "Input: digits = [\"7\"], n = 8\n",
    "Output: 1\n",
    " \n",
    "\n",
    "Constraints:\n",
    "\n",
    "1 <= digits.length <= 9\n",
    "digits[i].length == 1\n",
    "digits[i] is a digit from '1' to '9'.\n",
    "All the values in digits are unique.\n",
    "digits is sorted in non-decreasing order.\n",
    "1 <= n <= 109"
   ]
  },
  {
   "cell_type": "code",
   "execution_count": null,
   "metadata": {},
   "outputs": [],
   "source": [
    "class Solution:\n",
    "    def atMostNGivenDigitSet(self, D, N):\n",
    "        S = str(N)\n",
    "        K = len(S)\n",
    "        dp = [0] * K + [1]\n",
    "        # dp[i] = total number of valid integers if N was \"N[i:]\"\n",
    "\n",
    "        for i in range(K-1, -1, -1):\n",
    "            # Compute dp[i]\n",
    "\n",
    "            for d in D:\n",
    "                if d < S[i]:\n",
    "                    dp[i] += len(D) ** (K-i-1)\n",
    "                elif d == S[i]:\n",
    "                    dp[i] += dp[i+1]\n",
    "\n",
    "        return dp[0] + sum(len(D) ** i for i in range(1, K))"
   ]
  },
  {
   "cell_type": "code",
   "execution_count": null,
   "metadata": {},
   "outputs": [],
   "source": []
  }
 ],
 "metadata": {
  "kernelspec": {
   "display_name": "Python 3",
   "language": "python",
   "name": "python3"
  },
  "language_info": {
   "codemirror_mode": {
    "name": "ipython",
    "version": 3
   },
   "file_extension": ".py",
   "mimetype": "text/x-python",
   "name": "python",
   "nbconvert_exporter": "python",
   "pygments_lexer": "ipython3",
   "version": "3.7.6"
  }
 },
 "nbformat": 4,
 "nbformat_minor": 4
}
