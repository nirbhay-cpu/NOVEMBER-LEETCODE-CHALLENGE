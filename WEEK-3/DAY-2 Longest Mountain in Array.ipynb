{
 "cells": [
  {
   "cell_type": "code",
   "execution_count": null,
   "metadata": {},
   "outputs": [],
   "source": [
    "QUESTION-\n",
    "\n",
    "You may recall that an array arr is a mountain array if and only if:\n",
    "\n",
    "arr.length >= 3\n",
    "There exists some index i (0-indexed) with 0 < i < arr.length - 1 such that:\n",
    "arr[0] < arr[1] < ... < arr[i - 1] < arr[i]\n",
    "arr[i] > arr[i + 1] > ... > arr[arr.length - 1]\n",
    "Given an integer array arr, return the length of the longest subarray, which is a mountain. Return 0 if there is no mountain subarray.\n",
    "\n",
    " \n",
    "\n",
    "Example 1:\n",
    "\n",
    "Input: arr = [2,1,4,7,3,2,5]\n",
    "Output: 5\n",
    "Explanation: The largest mountain is [1,4,7,3,2] which has length 5.\n",
    "Example 2:\n",
    "\n",
    "Input: arr = [2,2,2]\n",
    "Output: 0\n",
    "Explanation: There is no mountain.\n",
    " \n",
    "\n",
    "Constraints:\n",
    "\n",
    "1 <= arr.length <= 104\n",
    "0 <= arr[i] <= 104"
   ]
  },
  {
   "cell_type": "code",
   "execution_count": null,
   "metadata": {},
   "outputs": [],
   "source": [
    "class Solution:\n",
    "    def longestMountain(self, A: List[int]) -> int:\n",
    "        n=len(A)\n",
    "        base = ans = 0\n",
    "        \n",
    "        while base<n:\n",
    "            end = base\n",
    "            \n",
    "            if end+1<n and A[end]<A[end+1]:\n",
    "                while end+1<n and A[end]<A[end+1]:\n",
    "                    end+=1\n",
    "\n",
    "                if end+1<n and A[end]>A[end+1]:\n",
    "                    while end+1<n and A[end]>A[end+1]:\n",
    "                        end+=1\n",
    "\n",
    "                    ans = max(ans,end-base+1)\n",
    "            \n",
    "            base = max(base+1,end)\n",
    "        \n",
    "        return ans"
   ]
  },
  {
   "cell_type": "code",
   "execution_count": null,
   "metadata": {},
   "outputs": [],
   "source": []
  }
 ],
 "metadata": {
  "kernelspec": {
   "display_name": "Python 3",
   "language": "python",
   "name": "python3"
  },
  "language_info": {
   "codemirror_mode": {
    "name": "ipython",
    "version": 3
   },
   "file_extension": ".py",
   "mimetype": "text/x-python",
   "name": "python",
   "nbconvert_exporter": "python",
   "pygments_lexer": "ipython3",
   "version": "3.7.6"
  }
 },
 "nbformat": 4,
 "nbformat_minor": 4
}
