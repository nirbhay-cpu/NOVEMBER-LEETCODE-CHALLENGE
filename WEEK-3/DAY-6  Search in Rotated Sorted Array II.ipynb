{
 "cells": [
  {
   "cell_type": "code",
   "execution_count": null,
   "metadata": {},
   "outputs": [],
   "source": [
    "QUESTION-\n",
    "\n",
    "Suppose an array sorted in ascending order is rotated at some pivot unknown to you beforehand.\n",
    "\n",
    "(i.e., [0,0,1,2,2,5,6] might become [2,5,6,0,0,1,2]).\n",
    "\n",
    "You are given a target value to search. If found in the array return true, otherwise return false.\n",
    "\n",
    "Example 1:\n",
    "\n",
    "Input: nums = [2,5,6,0,0,1,2], target = 0\n",
    "Output: true\n",
    "Example 2:\n",
    "\n",
    "Input: nums = [2,5,6,0,0,1,2], target = 3\n",
    "Output: false\n",
    "Follow up:\n",
    "\n",
    "This is a follow up problem to Search in Rotated Sorted Array, where nums may contain duplicates.\n",
    "Would this affect the run-time complexity? How and why?"
   ]
  },
  {
   "cell_type": "code",
   "execution_count": null,
   "metadata": {},
   "outputs": [],
   "source": [
    "class Solution:\n",
    "    def search(self, nums: List[int], target: int) -> bool:\n",
    "        l=0\n",
    "        r=len(nums)-1\n",
    "        \n",
    "        while l<=r:\n",
    "            while l<r and nums[l]==nums[l+1]:\n",
    "                l+=1\n",
    "            while l<r and nums[r]==nums[r-1]:\n",
    "                r-=1\n",
    "    \n",
    "            mid= (l+r)//2\n",
    "            if nums[mid]==target:\n",
    "                return True\n",
    "            \n",
    "            if nums[l]<=nums[mid]:\n",
    "                \n",
    "                if nums[mid]<target or target<nums[l]:\n",
    "                    l=mid+1\n",
    "                else:\n",
    "                    r=mid-1\n",
    "            else:\n",
    "                if nums[mid]>target or target>nums[r]:\n",
    "                    r=mid-1\n",
    "                else:\n",
    "                    l=mid+1\n",
    "        return False"
   ]
  },
  {
   "cell_type": "code",
   "execution_count": null,
   "metadata": {},
   "outputs": [],
   "source": []
  }
 ],
 "metadata": {
  "kernelspec": {
   "display_name": "Python 3",
   "language": "python",
   "name": "python3"
  },
  "language_info": {
   "codemirror_mode": {
    "name": "ipython",
    "version": 3
   },
   "file_extension": ".py",
   "mimetype": "text/x-python",
   "name": "python",
   "nbconvert_exporter": "python",
   "pygments_lexer": "ipython3",
   "version": "3.7.6"
  }
 },
 "nbformat": 4,
 "nbformat_minor": 4
}
