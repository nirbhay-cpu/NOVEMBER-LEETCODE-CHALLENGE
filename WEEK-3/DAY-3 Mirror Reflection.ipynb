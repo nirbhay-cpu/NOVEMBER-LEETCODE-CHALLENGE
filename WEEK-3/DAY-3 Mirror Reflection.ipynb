{
 "cells": [
  {
   "cell_type": "code",
   "execution_count": null,
   "metadata": {},
   "outputs": [],
   "source": [
    "QUESTION-\n",
    "\n",
    "There is a special square room with mirrors on each of the four walls.  Except for the southwest corner, there are receptors on each of the remaining corners, numbered 0, 1, and 2.\n",
    "\n",
    "The square room has walls of length p, and a laser ray from the southwest corner first meets the east wall at a distance q from the 0th receptor.\n",
    "\n",
    "Return the number of the receptor that the ray meets first.  (It is guaranteed that the ray will meet a receptor eventually.)\n",
    "\n",
    " \n",
    "\n",
    "Example 1:\n",
    "\n",
    "Input: p = 2, q = 1\n",
    "Output: 2\n",
    "Explanation: The ray meets receptor 2 the first time it gets reflected back to the left wall.\n",
    "\n",
    "Note:\n",
    "\n",
    "1 <= p <= 1000\n",
    "0 <= q <= p"
   ]
  },
  {
   "cell_type": "code",
   "execution_count": null,
   "metadata": {},
   "outputs": [],
   "source": [
    "class Solution:\n",
    "    def mirrorReflection(self, p: int, q: int) -> int:\n",
    "        def iseven(x):\n",
    "            if x%2==0:\n",
    "                return True\n",
    "            return False\n",
    "        \n",
    "        while  iseven(p) and iseven(q):\n",
    "            p=p//2\n",
    "            q=q//2\n",
    "        \n",
    "        if iseven(p)==True:\n",
    "            return 2\n",
    "        if iseven(q)==False:\n",
    "            return 1\n",
    "        \n",
    "        return 0"
   ]
  },
  {
   "cell_type": "code",
   "execution_count": null,
   "metadata": {},
   "outputs": [],
   "source": []
  }
 ],
 "metadata": {
  "kernelspec": {
   "display_name": "Python 3",
   "language": "python",
   "name": "python3"
  },
  "language_info": {
   "codemirror_mode": {
    "name": "ipython",
    "version": 3
   },
   "file_extension": ".py",
   "mimetype": "text/x-python",
   "name": "python",
   "nbconvert_exporter": "python",
   "pygments_lexer": "ipython3",
   "version": "3.7.6"
  }
 },
 "nbformat": 4,
 "nbformat_minor": 4
}
