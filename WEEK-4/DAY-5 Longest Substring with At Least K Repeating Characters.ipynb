{
 "cells": [
  {
   "cell_type": "code",
   "execution_count": null,
   "metadata": {},
   "outputs": [],
   "source": [
    "QUESTION-\n",
    "\n",
    "Given a string s and an integer k, return the length of the longest substring of s such that the frequency of each character in this substring is greater than or equal to k.\n",
    "\n",
    " \n",
    "\n",
    "Example 1:\n",
    "\n",
    "Input: s = \"aaabb\", k = 3\n",
    "Output: 3\n",
    "Explanation: The longest substring is \"aaa\", as 'a' is repeated 3 times.\n",
    "Example 2:\n",
    "\n",
    "Input: s = \"ababbc\", k = 2\n",
    "Output: 5\n",
    "Explanation: The longest substring is \"ababb\", as 'a' is repeated 2 times and 'b' is repeated 3 times.\n",
    " \n",
    "\n",
    "Constraints:\n",
    "\n",
    "1 <= s.length <= 104\n",
    "s consists of only lowercase English letters.\n",
    "1 <= k <= 105"
   ]
  },
  {
   "cell_type": "code",
   "execution_count": null,
   "metadata": {},
   "outputs": [],
   "source": [
    "class Solution:\n",
    "    def longestSubstring(self, s: str, k: int) -> int:\n",
    "        if len(s) == 0 or k > len(s):\n",
    "            return 0\n",
    "        c = Counter(s)\n",
    "        sub1, sub2 = \"\", \"\"\n",
    "        for i, letter in enumerate(s):\n",
    "            \n",
    "            if c[letter] < k:\n",
    "                \n",
    "                sub1 = self.longestSubstring(s[:i], k)\n",
    "                sub2 = self.longestSubstring(s[i+1:], k)\n",
    "                break\n",
    "        else:\n",
    "            return len(s)\n",
    "        return max(sub1, sub2)\n",
    "        \n",
    "        "
   ]
  },
  {
   "cell_type": "code",
   "execution_count": null,
   "metadata": {},
   "outputs": [],
   "source": []
  }
 ],
 "metadata": {
  "kernelspec": {
   "display_name": "Python 3",
   "language": "python",
   "name": "python3"
  },
  "language_info": {
   "codemirror_mode": {
    "name": "ipython",
    "version": 3
   },
   "file_extension": ".py",
   "mimetype": "text/x-python",
   "name": "python",
   "nbconvert_exporter": "python",
   "pygments_lexer": "ipython3",
   "version": "3.7.6"
  }
 },
 "nbformat": 4,
 "nbformat_minor": 4
}
