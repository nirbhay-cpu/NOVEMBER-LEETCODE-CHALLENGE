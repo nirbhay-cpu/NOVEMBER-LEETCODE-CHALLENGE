{
 "cells": [
  {
   "cell_type": "code",
   "execution_count": null,
   "metadata": {},
   "outputs": [],
   "source": [
    "QUESTION-\n",
    "\n",
    "Given a string s which represents an expression, evaluate this expression and return its value. \n",
    "\n",
    "The integer division should truncate toward zero.\n",
    "\n",
    " \n",
    "\n",
    "Example 1:\n",
    "\n",
    "Input: s = \"3+2*2\"\n",
    "Output: 7\n",
    "Example 2:\n",
    "\n",
    "Input: s = \" 3/2 \"\n",
    "Output: 1\n",
    "Example 3:\n",
    "\n",
    "Input: s = \" 3+5 / 2 \"\n",
    "Output: 5\n",
    " \n",
    "\n",
    "Constraints:\n",
    "\n",
    "1 <= s.length <= 3 * 105\n",
    "s consists of integers and operators ('+', '-', '*', '/') separated by some number of spaces.\n",
    "s represents a valid expression.\n",
    "All the integers in the expression are non-negative integers in the range [0, 231 - 1].\n",
    "The answer is guaranteed to fit in a 32-bit integer."
   ]
  },
  {
   "cell_type": "code",
   "execution_count": null,
   "metadata": {},
   "outputs": [],
   "source": [
    "class Solution:\n",
    "    def calculate(self, s: str) -> int:\n",
    "        inner , outer , result , opt = 0,0,0,\"+\"\n",
    "        \n",
    "        for i in s+\"+\":\n",
    "            if i==\" \":\n",
    "                continue\n",
    "            if i.isdigit():\n",
    "                inner =inner*10 + int(i)\n",
    "                continue\n",
    "            if opt==\"+\":\n",
    "                result+=outer\n",
    "                outer = inner\n",
    "                \n",
    "            \n",
    "            elif opt ==\"-\":\n",
    "                result+=outer\n",
    "                outer = -inner\n",
    "                \n",
    "            elif opt==\"*\":\n",
    "                outer = outer * inner\n",
    "            elif opt==\"/\":\n",
    "                outer = int(outer / inner)\n",
    "            inner=0\n",
    "            opt = i\n",
    "        \n",
    "        return result + outer"
   ]
  },
  {
   "cell_type": "code",
   "execution_count": null,
   "metadata": {},
   "outputs": [],
   "source": []
  }
 ],
 "metadata": {
  "kernelspec": {
   "display_name": "Python 3",
   "language": "python",
   "name": "python3"
  },
  "language_info": {
   "codemirror_mode": {
    "name": "ipython",
    "version": 3
   },
   "file_extension": ".py",
   "mimetype": "text/x-python",
   "name": "python",
   "nbconvert_exporter": "python",
   "pygments_lexer": "ipython3",
   "version": "3.7.6"
  }
 },
 "nbformat": 4,
 "nbformat_minor": 4
}
