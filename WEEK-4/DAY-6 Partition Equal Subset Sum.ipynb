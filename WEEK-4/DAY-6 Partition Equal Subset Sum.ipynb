{
 "cells": [
  {
   "cell_type": "code",
   "execution_count": null,
   "metadata": {},
   "outputs": [],
   "source": [
    "QUESTION-\n",
    "\n",
    "Given a non-empty array nums containing only positive integers, find if the array can be partitioned into two subsets such that the sum of elements in both subsets is equal.\n",
    "\n",
    " \n",
    "\n",
    "Example 1:\n",
    "\n",
    "Input: nums = [1,5,11,5]\n",
    "Output: true\n",
    "Explanation: The array can be partitioned as [1, 5, 5] and [11].\n",
    "Example 2:\n",
    "\n",
    "Input: nums = [1,2,3,5]\n",
    "Output: false\n",
    "Explanation: The array cannot be partitioned into equal sum subsets.\n",
    " \n",
    "\n",
    "Constraints:\n",
    "\n",
    "1 <= nums.length <= 200\n",
    "1 <= nums[i] <= 100"
   ]
  },
  {
   "cell_type": "code",
   "execution_count": null,
   "metadata": {},
   "outputs": [],
   "source": [
    "class Solution:\n",
    "  \n",
    "    def canPartition(self, nums: List[int]) -> bool:   \n",
    "        self.s1 = sum(nums)\n",
    "        if self.s1%2!=0:\n",
    "            return False\n",
    "        \n",
    "        \n",
    "        self.cache=set()\n",
    "        def helper(a,nums):\n",
    "            self.l.append(nums[a])\n",
    "            \n",
    "            \n",
    "            sa = sum(self.l)\n",
    "          \n",
    "            \n",
    "            \n",
    "            if self.s1-sa == sa:\n",
    "                return True\n",
    "            \n",
    "            if sa in self.cache:\n",
    "                return False\n",
    "            \n",
    "            self.cache.add(sa)\n",
    "            \n",
    "            for i in range(a+1,len(nums)):\n",
    "                t=helper(i,nums)\n",
    "                self.l.pop()\n",
    "                \n",
    "                if t==True:\n",
    "                    return True\n",
    "                \n",
    "        \n",
    "        \n",
    "        self.l=[]\n",
    "        \n",
    "        t1 = helper(0,nums)\n",
    "        if t1==True:\n",
    "            return True\n",
    "        \n",
    "        return False\n",
    "                \n",
    "        "
   ]
  },
  {
   "cell_type": "code",
   "execution_count": null,
   "metadata": {},
   "outputs": [],
   "source": []
  }
 ],
 "metadata": {
  "kernelspec": {
   "display_name": "Python 3",
   "language": "python",
   "name": "python3"
  },
  "language_info": {
   "codemirror_mode": {
    "name": "ipython",
    "version": 3
   },
   "file_extension": ".py",
   "mimetype": "text/x-python",
   "name": "python",
   "nbconvert_exporter": "python",
   "pygments_lexer": "ipython3",
   "version": "3.7.6"
  }
 },
 "nbformat": 4,
 "nbformat_minor": 4
}
