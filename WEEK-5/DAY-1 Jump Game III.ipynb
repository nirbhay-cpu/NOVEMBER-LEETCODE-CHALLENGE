{
 "cells": [
  {
   "cell_type": "code",
   "execution_count": null,
   "metadata": {},
   "outputs": [],
   "source": [
    "QUESTION-\n",
    "\n",
    "Given an array of non-negative integers arr, you are initially positioned at start index of the array. When you are at index i, you can jump to i + arr[i] or i - arr[i], check if you can reach to any index with value 0.\n",
    "\n",
    "Notice that you can not jump outside of the array at any time.\n",
    "\n",
    " \n",
    "\n",
    "Example 1:\n",
    "\n",
    "Input: arr = [4,2,3,0,3,1,2], start = 5\n",
    "Output: true\n",
    "Explanation: \n",
    "All possible ways to reach at index 3 with value 0 are: \n",
    "index 5 -> index 4 -> index 1 -> index 3 \n",
    "index 5 -> index 6 -> index 4 -> index 1 -> index 3 \n",
    "Example 2:\n",
    "\n",
    "Input: arr = [4,2,3,0,3,1,2], start = 0\n",
    "Output: true \n",
    "Explanation: \n",
    "One possible way to reach at index 3 with value 0 is: \n",
    "index 0 -> index 4 -> index 1 -> index 3\n",
    "Example 3:\n",
    "\n",
    "Input: arr = [3,0,2,1,2], start = 2\n",
    "Output: false\n",
    "Explanation: There is no way to reach at index 1 with value 0.\n",
    " \n",
    "\n",
    "Constraints:\n",
    "\n",
    "1 <= arr.length <= 5 * 10^4\n",
    "0 <= arr[i] < arr.length\n",
    "0 <= start < arr.length"
   ]
  },
  {
   "cell_type": "code",
   "execution_count": null,
   "metadata": {},
   "outputs": [],
   "source": [
    "class Solution:\n",
    "    def canReach(self, arr: List[int], start: int) -> bool:\n",
    "        self.se = set()\n",
    "        \n",
    "        def helper(arr,s):\n",
    "           \n",
    "            if s <0 or s>= len(arr):\n",
    "                return False\n",
    "            \n",
    "            if arr[s]==0:\n",
    "                return True\n",
    "            \n",
    "            if s in self.se:\n",
    "                return False\n",
    "            \n",
    "            self.se.add(s)\n",
    "            t=helper(arr,s+arr[s])\n",
    "            t1=helper(arr,s-arr[s])\n",
    "            \n",
    "            if t or t1:\n",
    "                return True\n",
    "        \n",
    "        a=helper(arr,start)\n",
    "        if a :\n",
    "            return True\n",
    "        return False"
   ]
  },
  {
   "cell_type": "code",
   "execution_count": null,
   "metadata": {},
   "outputs": [],
   "source": []
  }
 ],
 "metadata": {
  "kernelspec": {
   "display_name": "Python 3",
   "language": "python",
   "name": "python3"
  },
  "language_info": {
   "codemirror_mode": {
    "name": "ipython",
    "version": 3
   },
   "file_extension": ".py",
   "mimetype": "text/x-python",
   "name": "python",
   "nbconvert_exporter": "python",
   "pygments_lexer": "ipython3",
   "version": "3.7.6"
  }
 },
 "nbformat": 4,
 "nbformat_minor": 4
}
