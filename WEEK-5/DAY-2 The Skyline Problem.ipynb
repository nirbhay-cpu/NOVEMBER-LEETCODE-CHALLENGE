{
 "cells": [
  {
   "cell_type": "code",
   "execution_count": null,
   "metadata": {},
   "outputs": [],
   "source": [
    "QUESTION-\n",
    "\n",
    "A city's skyline is the outer contour of the silhouette formed by all the buildings in that city when viewed from a distance. Now suppose you are given the locations and height of all the buildings as shown on a cityscape photo (Figure A), write a program to output the skyline formed by these buildings collectively (Figure B).\n",
    "\n",
    "Buildings Skyline Contour\n",
    "The geometric information of each building is represented by a triplet of integers [Li, Ri, Hi], where Li and Ri are the x coordinates of the left and right edge of the ith building, respectively, and Hi is its height. It is guaranteed that 0 ≤ Li, Ri ≤ INT_MAX, 0 < Hi ≤ INT_MAX, and Ri - Li > 0. You may assume all buildings are perfect rectangles grounded on an absolutely flat surface at height 0.\n",
    "\n",
    "For instance, the dimensions of all buildings in Figure A are recorded as: [ [2 9 10], [3 7 15], [5 12 12], [15 20 10], [19 24 8] ] .\n",
    "\n",
    "The output is a list of \"key points\" (red dots in Figure B) in the format of [ [x1,y1], [x2, y2], [x3, y3], ... ] that uniquely defines a skyline. A key point is the left endpoint of a horizontal line segment. Note that the last key point, where the rightmost building ends, is merely used to mark the termination of the skyline, and always has zero height. Also, the ground in between any two adjacent buildings should be considered part of the skyline contour.\n",
    "\n",
    "For instance, the skyline in Figure B should be represented as:[ [2 10], [3 15], [7 12], [12 0], [15 10], [20 8], [24, 0] ].\n",
    "\n",
    "Notes:\n",
    "\n",
    "The number of buildings in any input list is guaranteed to be in the range [0, 10000].\n",
    "The input list is already sorted in ascending order by the left x position Li.\n",
    "The output list must be sorted by the x position.\n",
    "There must be no consecutive horizontal lines of equal height in the output skyline. For instance, [...[2 3], [4 5], [7 5], [11 5], [12 7]...] is not acceptable; the three lines of height 5 should be merged into one in the final output as such: [...[2 3], [4 5], [12 7], ...]"
   ]
  },
  {
   "cell_type": "code",
   "execution_count": null,
   "metadata": {},
   "outputs": [],
   "source": [
    "class Solution:\n",
    "    def getSkyline(self, buildings):\n",
    "        points  = [(l,h,-1,i) for i, (l,r,h) in enumerate(buildings)]\n",
    "        points += [(r,h,1,i) for i, (l,r,h) in enumerate(buildings)]\n",
    "        points.sort(key = lambda x: (x[0], x[1]*x[2]))\n",
    "        heap, active, ans = [(0,-1)], set([-1]), []\n",
    "        \n",
    "        for x, h, lr, ind in points:\n",
    "            if lr == -1: active.add(ind)\n",
    "            else: active.remove(ind)\n",
    "           \n",
    "            if lr == -1:\n",
    "                if h > -heap[0][0]: \n",
    "                    ans.append([x, h])\n",
    "                heappush(heap, (-h, ind))\n",
    "            else:\n",
    "                if h == -heap[0][0]:   \n",
    "                    while heap and heap[0][1] not in active: heappop(heap)\n",
    "                if -heap[0][0] != ans[-1][1]: \n",
    "                    ans.append([x, -heap[0][0]])\n",
    "                \n",
    "        return ans"
   ]
  },
  {
   "cell_type": "code",
   "execution_count": null,
   "metadata": {},
   "outputs": [],
   "source": []
  }
 ],
 "metadata": {
  "kernelspec": {
   "display_name": "Python 3",
   "language": "python",
   "name": "python3"
  },
  "language_info": {
   "codemirror_mode": {
    "name": "ipython",
    "version": 3
   },
   "file_extension": ".py",
   "mimetype": "text/x-python",
   "name": "python",
   "nbconvert_exporter": "python",
   "pygments_lexer": "ipython3",
   "version": "3.7.6"
  }
 },
 "nbformat": 4,
 "nbformat_minor": 4
}
