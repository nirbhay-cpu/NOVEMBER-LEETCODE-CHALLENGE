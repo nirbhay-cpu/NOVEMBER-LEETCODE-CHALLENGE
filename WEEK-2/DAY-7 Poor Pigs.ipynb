{
 "cells": [
  {
   "cell_type": "code",
   "execution_count": null,
   "metadata": {},
   "outputs": [],
   "source": [
    "QUESTION-\n",
    "\n",
    "There are 1000 buckets, one and only one of them is poisonous, while the rest are filled with water. They all look identical. If a pig drinks the poison it will die within 15 minutes. What is the minimum amount of pigs you need to figure out which bucket is poisonous within one hour?\n",
    "\n",
    "Answer this question, and write an algorithm for the general case.\n",
    "\n",
    " \n",
    "\n",
    "General case:\n",
    "\n",
    "If there are n buckets and a pig drinking poison will die within m minutes, how many pigs (x) you need to figure out the poisonous bucket within p minutes? There is exactly one bucket with poison.\n",
    "\n",
    " \n",
    "\n",
    "Note:\n",
    "\n",
    "1. A pig can be allowed to drink simultaneously on as many buckets as one would like, and the feeding takes no time.\n",
    "2. After a pig has instantly finished drinking buckets, there has to be a cool down time of m minutes. During this time, only observation is allowed and no feedings at all.\n",
    "3. Any given bucket can be sampled an infinite number of times (by an unlimited number of pigs)."
   ]
  },
  {
   "cell_type": "code",
   "execution_count": null,
   "metadata": {},
   "outputs": [],
   "source": [
    "class Solution:\n",
    "    def poorPigs(self, buckets: int, minutesToDie: int, minutesToTest: int) -> int:\n",
    "        pigs = 0\n",
    "        while (minutesToTest/minutesToDie+1)**pigs < buckets:\n",
    "            pigs+=1\n",
    "        \n",
    "        return pigs"
   ]
  },
  {
   "cell_type": "code",
   "execution_count": null,
   "metadata": {},
   "outputs": [],
   "source": []
  }
 ],
 "metadata": {
  "kernelspec": {
   "display_name": "Python 3",
   "language": "python",
   "name": "python3"
  },
  "language_info": {
   "codemirror_mode": {
    "name": "ipython",
    "version": 3
   },
   "file_extension": ".py",
   "mimetype": "text/x-python",
   "name": "python",
   "nbconvert_exporter": "python",
   "pygments_lexer": "ipython3",
   "version": "3.7.6"
  }
 },
 "nbformat": 4,
 "nbformat_minor": 4
}
