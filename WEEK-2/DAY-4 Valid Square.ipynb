{
 "cells": [
  {
   "cell_type": "code",
   "execution_count": null,
   "metadata": {},
   "outputs": [],
   "source": [
    "QUESTION-\n",
    "\n",
    "Given the coordinates of four points in 2D space p1, p2, p3 and p4, return true if the four points construct a square.\n",
    "\n",
    "The coordinate of a point pi is represented as [xi, yi]. The input is not given in any order.\n",
    "\n",
    "A valid square has four equal sides with positive length and four equal angles (90-degree angles).\n",
    "\n",
    " \n",
    "\n",
    "Example 1:\n",
    "\n",
    "Input: p1 = [0,0], p2 = [1,1], p3 = [1,0], p4 = [0,1]\n",
    "Output: true\n",
    "Example 2:\n",
    "\n",
    "Input: p1 = [0,0], p2 = [1,1], p3 = [1,0], p4 = [0,12]\n",
    "Output: false\n",
    "Example 3:\n",
    "\n",
    "Input: p1 = [1,0], p2 = [-1,0], p3 = [0,1], p4 = [0,-1]\n",
    "Output: true\n",
    " \n",
    "\n",
    "Constraints:\n",
    "\n",
    "p1.length == p2.length == p3.length == p4.length == 2\n",
    "-104 <= xi, yi <= 104"
   ]
  },
  {
   "cell_type": "code",
   "execution_count": null,
   "metadata": {},
   "outputs": [],
   "source": [
    "class Solution:\n",
    "    def validSquare(self, p1: List[int], p2: List[int], p3: List[int], p4: List[int]) -> bool:\n",
    "        def distance(a,b):\n",
    "            return ((b[0]-a[0])**2 + (b[1]-a[1])**2 )**0.5\n",
    "        \n",
    "        l=[p1,p2,p3,p4]\n",
    "        l = sorted(l)\n",
    "        \n",
    "        \n",
    "        if distance(l[0],l[1]) == distance(l[2],l[3]) == distance(l[0],l[2]) == distance(l[1],l[3]) and distance(l[0],l[3]) == distance(l[2],l[1]) and distance(l[0],l[1])!=0 and distance(l[2],l[3])!=0 and distance(l[0],l[2])!=0 and distance(l[3],l[1])!=0:\n",
    "            return True\n",
    "        return False\n",
    "        "
   ]
  },
  {
   "cell_type": "code",
   "execution_count": null,
   "metadata": {},
   "outputs": [],
   "source": []
  }
 ],
 "metadata": {
  "kernelspec": {
   "display_name": "Python 3",
   "language": "python",
   "name": "python3"
  },
  "language_info": {
   "codemirror_mode": {
    "name": "ipython",
    "version": 3
   },
   "file_extension": ".py",
   "mimetype": "text/x-python",
   "name": "python",
   "nbconvert_exporter": "python",
   "pygments_lexer": "ipython3",
   "version": "3.7.6"
  }
 },
 "nbformat": 4,
 "nbformat_minor": 4
}
