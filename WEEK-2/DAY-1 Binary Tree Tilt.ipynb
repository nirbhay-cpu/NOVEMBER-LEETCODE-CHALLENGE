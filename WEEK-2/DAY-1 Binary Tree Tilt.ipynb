{
 "cells": [
  {
   "cell_type": "code",
   "execution_count": null,
   "metadata": {},
   "outputs": [],
   "source": [
    "QUESTION-\n",
    "\n",
    "Given the root of a binary tree, return the sum of every tree node's tilt.\n",
    "\n",
    "The tilt of a tree node is the absolute difference between the sum of all left subtree node values and all right subtree node values. If a node does not have a left child, then the sum of the left subtree node values is treated as 0. The rule is similar if there the node does not have a right child.\n",
    "\n",
    " \n",
    "\n",
    "Example 1:\n",
    "\n",
    "\n",
    "Input: root = [1,2,3]\n",
    "Output: 1\n",
    "Explanation: \n",
    "Tilt of node 2 : |0-0| = 0 (no children)\n",
    "Tilt of node 3 : |0-0| = 0 (no children)\n",
    "Tile of node 1 : |2-3| = 1 (left subtree is just left child, so sum is 2; right subtree is just right child, so sum is 3)\n",
    "Sum of every tilt : 0 + 0 + 1 = 1\n",
    "Example 2:\n",
    "\n",
    "\n",
    "Input: root = [4,2,9,3,5,null,7]\n",
    "Output: 15\n",
    "Explanation: \n",
    "Tilt of node 3 : |0-0| = 0 (no children)\n",
    "Tilt of node 5 : |0-0| = 0 (no children)\n",
    "Tilt of node 7 : |0-0| = 0 (no children)\n",
    "Tilt of node 2 : |3-5| = 2 (left subtree is just left child, so sum is 3; right subtree is just right child, so sum is 5)\n",
    "Tilt of node 9 : |0-7| = 7 (no left child, so sum is 0; right subtree is just right child, so sum is 7)\n",
    "Tilt of node 4 : |(3+5+2)-(9+7)| = |10-16| = 6 (left subtree values are 3, 5, and 2, which sums to 10; right subtree values are 9 and 7, which sums to 16)\n",
    "Sum of every tilt : 0 + 0 + 0 + 2 + 7 + 6 = 15\n",
    "Example 3:\n",
    "\n",
    "\n",
    "Input: root = [21,7,14,1,1,2,2,3,3]\n",
    "Output: 9\n",
    " \n",
    "\n",
    "Constraints:\n",
    "\n",
    "The number of nodes in the tree is in the range [0, 104].\n",
    "-1000 <= Node.val <= 1000"
   ]
  },
  {
   "cell_type": "code",
   "execution_count": null,
   "metadata": {},
   "outputs": [],
   "source": [
    "# Definition for a binary tree node.\n",
    "# class TreeNode:\n",
    "#     def __init__(self, val=0, left=None, right=None):\n",
    "#         self.val = val\n",
    "#         self.left = left\n",
    "#         self.right = right\n",
    "class Solution:\n",
    "    def findTilt(self, root: TreeNode) -> int:\n",
    "        self.total = 0\n",
    "        \n",
    "        def dfs(root):\n",
    "            if root is None :\n",
    "                return 0\n",
    "            left = dfs(root.left)\n",
    "            right = dfs(root.right)\n",
    "            tilt = abs(left - right)\n",
    "            self.total += tilt\n",
    "            \n",
    "            return root.val + left + right\n",
    "            \n",
    "        \n",
    "        \n",
    "        \n",
    "        \n",
    "        \n",
    "        dfs(root)\n",
    "        return self.total"
   ]
  },
  {
   "cell_type": "code",
   "execution_count": null,
   "metadata": {},
   "outputs": [],
   "source": []
  }
 ],
 "metadata": {
  "kernelspec": {
   "display_name": "Python 3",
   "language": "python",
   "name": "python3"
  },
  "language_info": {
   "codemirror_mode": {
    "name": "ipython",
    "version": 3
   },
   "file_extension": ".py",
   "mimetype": "text/x-python",
   "name": "python",
   "nbconvert_exporter": "python",
   "pygments_lexer": "ipython3",
   "version": "3.7.6"
  }
 },
 "nbformat": 4,
 "nbformat_minor": 4
}
